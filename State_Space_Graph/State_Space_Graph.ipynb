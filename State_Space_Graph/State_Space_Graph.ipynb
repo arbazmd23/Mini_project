{
  "nbformat": 4,
  "nbformat_minor": 0,
  "metadata": {
    "colab": {
      "provenance": []
    },
    "kernelspec": {
      "name": "python3",
      "display_name": "Python 3"
    },
    "language_info": {
      "name": "python"
    },
    "accelerator": "GPU",
    "gpuClass": "standard"
  },
  "cells": [
    {
      "cell_type": "code",
      "execution_count": null,
      "metadata": {
        "id": "9R4NDU7yZ2JB"
      },
      "outputs": [],
      "source": [
        "graph = { \"a\" : {\"c\"},\n",
        "          \"b\" : {\"c\", \"e\"},\n",
        "          \"c\" : {\"a\", \"b\", \"d\", \"e\"},\n",
        "          \"d\" : {\"c\"},\n",
        "          \"e\" : {\"c\", \"b\"},\n",
        "          \"f\" : {}\n",
        "        }\n"
      ]
    },
    {
      "cell_type": "code",
      "source": [
        "def generate_edges(graph):\n",
        "    edges = []\n",
        "    for node in graph:\n",
        "        for neighbour in graph[node]:\n",
        "            edges.append({node, neighbour})\n",
        "\n",
        "    return edges\n",
        "\n",
        "print(generate_edges(graph))\n"
      ],
      "metadata": {
        "colab": {
          "base_uri": "https://localhost:8080/"
        },
        "id": "PioczhIUaFfu",
        "outputId": "02ed3225-141b-4e36-e410-bd1b90f37d28"
      },
      "execution_count": null,
      "outputs": [
        {
          "output_type": "stream",
          "name": "stdout",
          "text": [
            "[{'a', 'c'}, {'b', 'e'}, {'b', 'c'}, {'b', 'c'}, {'a', 'c'}, {'e', 'c'}, {'d', 'c'}, {'d', 'c'}, {'b', 'e'}, {'e', 'c'}]\n"
          ]
        }
      ]
    },
    {
      "cell_type": "code",
      "source": [
        "def find_isolated_nodes(graph):\n",
        "    \"\"\" returns a set of isolated nodes. \"\"\"\n",
        "    isolated = set()\n",
        "    for node in graph:\n",
        "        if not graph[node]:\n",
        "            isolated.add(node)\n",
        "    return isolated\n"
      ],
      "metadata": {
        "id": "vn4dlJDLaToh"
      },
      "execution_count": null,
      "outputs": []
    },
    {
      "cell_type": "code",
      "source": [
        "class Graph(object):\n",
        "\n",
        "    def __init__(self, graph_dict=None):\n",
        "\n",
        "        if graph_dict == None:\n",
        "            graph_dict = {}\n",
        "        self._graph_dict = graph_dict\n",
        "\n",
        "    def edges(self, vertice):\n",
        "\n",
        "        return self._graph_dict[vertice]\n",
        "\n",
        "    def all_vertices(self):\n",
        "\n",
        "        return set(self._graph_dict.keys())\n",
        "\n",
        "    def all_edges(self):\n",
        "\n",
        "        return self.__generate_edges()\n",
        "\n",
        "    def add_vertex(self, vertex):\n",
        "\n",
        "        if vertex not in self._graph_dict:\n",
        "            self._graph_dict[vertex] = []\n",
        "\n",
        "    def add_edge(self, edge):\n",
        "\n",
        "        edge = set(edge)\n",
        "        vertex1, vertex2 = tuple(edge)\n",
        "        for x, y in [(vertex1, vertex2), (vertex2, vertex1)]:\n",
        "            if x in self._graph_dict:\n",
        "                self._graph_dict[x].add(y)\n",
        "            else:\n",
        "                self._graph_dict[x] = [y]\n",
        "\n",
        "    def __generate_edges(self):\n",
        "\n",
        "        edges = []\n",
        "        for vertex in self._graph_dict:\n",
        "            for neighbour in self._graph_dict[vertex]:\n",
        "                if {neighbour, vertex} not in edges:\n",
        "                    edges.append({vertex, neighbour})\n",
        "        return edges\n",
        "\n",
        "    def __iter__(self):\n",
        "        self._iter_obj = iter(self._graph_dict)\n",
        "        return self._iter_obj\n",
        "\n",
        "    def __next__(self):\n",
        "\n",
        "        return next(self._iter_obj)\n",
        "\n",
        "    def __str__(self):\n",
        "        res = \"vertices: \"\n",
        "        for k in self._graph_dict:\n",
        "            res += str(k) + \" \"\n",
        "        res += \"\\nedges: \"\n",
        "        for edge in self.__generate_edges():\n",
        "            res += str(edge) + \" \"\n",
        "        return res\n"
      ],
      "metadata": {
        "id": "GuznLpX0aY0h"
      },
      "execution_count": null,
      "outputs": []
    },
    {
      "cell_type": "code",
      "source": [
        "g = { \"a\" : {\"d\"},\n",
        "      \"b\" : {\"c\"},\n",
        "      \"c\" : {\"b\", \"c\", \"d\", \"e\"},\n",
        "      \"d\" : {\"a\", \"c\"},\n",
        "      \"e\" : {\"c\"},\n",
        "      \"f\" : {}\n",
        "    }\n",
        "\n",
        "graph = Graph(g)\n",
        "\n",
        "for vertice in graph:\n",
        "    print(f\"Edges of vertice {vertice}: \", graph.edges(vertice))\n"
      ],
      "metadata": {
        "id": "lh5e93sKas6h",
        "outputId": "524c9a52-7a8b-4cc5-e849-0604f8e0fe81",
        "colab": {
          "base_uri": "https://localhost:8080/"
        }
      },
      "execution_count": null,
      "outputs": [
        {
          "output_type": "stream",
          "name": "stdout",
          "text": [
            "Edges of vertice a:  {'d'}\n",
            "Edges of vertice b:  {'c'}\n",
            "Edges of vertice c:  {'b', 'd', 'e', 'c'}\n",
            "Edges of vertice d:  {'a', 'c'}\n",
            "Edges of vertice e:  {'c'}\n",
            "Edges of vertice f:  {}\n"
          ]
        }
      ]
    }
  ]
}